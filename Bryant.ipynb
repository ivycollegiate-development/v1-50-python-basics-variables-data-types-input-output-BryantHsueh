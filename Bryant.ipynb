{
 "cells": [
  {
   "cell_type": "code",
   "execution_count": null,
   "metadata": {
    "vscode": {
     "languageId": "plaintext"
    }
   },
   "outputs": [],
   "source": [
    "your_name = \"Bryant\"\n",
    "\n",
    "your_age = 17\n",
    "\n",
    "your_height = 180\n",
    "\n",
    "is_student = Ture\n",
    "\n",
    "number_string= \"42\"\n",
    "number_integer = int(number_string)\n",
    "print(f\"Converted number: {number_integer})\n",
    "print(f\"Type of number: {type(number_integer}\")\n",
    "\n",
    "pi_string= \"3.14\"\n",
    "pi_float =\n",
    "print(f\"Converted pi: {pi_float}\")\n",
    "print(f\"Type of pi: {type(pi_float)}\")"
   ]
  }
 ],
 "metadata": {
  "language_info": {
   "name": "python"
  }
 },
 "nbformat": 4,
 "nbformat_minor": 2
}
